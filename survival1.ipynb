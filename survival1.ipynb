{
 "cells": [
  {
   "cell_type": "code",
   "execution_count": null,
   "id": "2c6c18d5",
   "metadata": {},
   "outputs": [],
   "source": [
    "import pandas as pd\n",
    "import matplotlib.pyplot as plt\n",
    "import seaborn as sns\n",
    "from sklearn.ensemble import RandomForestClassifier, GradientBoostingClassifier, AdaBoostClassifier\n",
    "from sklearn.linear_model import LogisticRegression\n",
    "from sklearn.tree import DecisionTreeClassifier\n",
    "from sklearn.model_selection import train_test_split\n",
    "from sklearn.metrics import accuracy_score, confusion_matrix, classification_report, f1_score\n",
    "from sklearn.preprocessing import LabelEncoder, StandardScaler, OneHotEncoder\n",
    "from sklearn.model_selection import GridSearchCV, StratifiedKFold, cross_val_score\n",
    "from xgboost import XGBClassifier\n",
    "\n",
    "df_train_file = pd.read_csv(r\"D:\\PYTHON\\Titanic_Survival_Kaggle\\DATASET\\train.csv\")\n",
    "\n",
    "print(f'Before Preprocessing stage: {df_train_file.isna().sum()}')\n",
    "\n",
    "def title_group(title):\n",
    "    if title in ['Mr']:\n",
    "        return 1\n",
    "    elif title in ['Miss', 'Ms']:\n",
    "        return 2\n",
    "    elif title in ['Mrs']:\n",
    "        return 3\n",
    "    elif title in ['Master']:\n",
    "        return 4\n",
    "    else:\n",
    "        return 5\n",
    "\n",
    "\n",
    "def preprocess_data(df_train):\n",
    "    df_train['Title'] = df_train['Name'].str.extract(' ([A-Za-z]+)\\.', expand=False)\n",
    "    df_train[df_train['Age'].isna()]\n",
    "    df_train['Age'].fillna(df_train['Age'].median(), inplace=True)\n",
    "    df_train['Cabin'].fillna('No Cabin', inplace=True)\n",
    "    df_train['Embarked'].fillna(df_train['Embarked'].mode()[0], inplace=True)\n",
    "    df_train['Fare'].fillna(df_train['Fare'].median(), inplace=True)\n",
    "\n",
    "    df_train['Sex'] = df_train['Sex'].map({'male': 0, 'female': 1})\n",
    "    df_train['Embarked'] = df_train['Embarked'].map({'S': 0, 'C': 1, 'Q': 2})\n",
    "\n",
    "\n",
    "    df_train['FamilySize'] = df_train['SibSp'] + df_train['Parch'] + 1\n",
    "    df_train['IsAlone'] = 1  # Initialize to 1 (alone)\n",
    "    df_train.loc[df_train['FamilySize'] > 1, 'IsAlone'] = 0\n",
    "\n",
    "    df_train['Title'] = df_train['Title'].apply(title_group).astype(int)\n",
    "\n",
    "    \n",
    "    df_train['AgeBand'] = pd.cut(df_train['Age'], 5)\n",
    "    df_train['AgeBand'] = df_train['AgeBand'].cat.codes\n",
    "    #df_train['HasCabin'] = df_train['Cabin'].notnull().astype(int)\n",
    "    df_train['HasCabin'] = df_train['Cabin'].apply(lambda x: 0 if x == 'No Cabin' else 1)\n",
    "    \n",
    "    df_train.drop(['PassengerId', 'Name', 'Ticket', 'Cabin', 'Age'], axis=1, inplace=True)\n",
    "    #df_train['Fare'] = StandardScaler().fit_transform(df_train[['Fare']])\n",
    "    return df_train\n",
    "\n",
    "df_train = preprocess_data(df_train_file)\n",
    "df_train.head()\n",
    "\n",
    "\n"
   ]
  },
  {
   "cell_type": "markdown",
   "id": "715b74b8",
   "metadata": {},
   "source": [
    "# EDA"
   ]
  },
  {
   "cell_type": "code",
   "execution_count": null,
   "id": "54f5a79e",
   "metadata": {},
   "outputs": [],
   "source": [
    "group = df_train.groupby(['Sex', 'Survived']).size().reset_index(name='Count')\n",
    "\n",
    "# Calculate percentage within each gender group\n",
    "group['Percent'] = group.groupby('Sex')['Count'].transform(lambda x: x / x.sum() * 100)\n",
    "\n",
    "print(group)\n",
    "\n",
    "sns.barplot(data=group, x='Sex', y='Percent', hue='Survived')\n",
    "plt.title('Gender-wise Survival Percentage')\n",
    "plt.ylabel('Percentage (%)')\n",
    "plt.show()"
   ]
  },
  {
   "cell_type": "code",
   "execution_count": null,
   "id": "5b522a01",
   "metadata": {},
   "outputs": [],
   "source": [
    "sns.histplot(df_train['Age'], bins=30, kde=True, color='blue')\n",
    "plt.title('Age Distribution of Passengers')\n",
    "plt.xlabel('Age')\n",
    "plt.ylabel('Frequency')\n",
    "plt.show()"
   ]
  },
  {
   "cell_type": "code",
   "execution_count": null,
   "id": "155085fb",
   "metadata": {},
   "outputs": [],
   "source": [
    "sns.histplot(df_train['Fare'], bins=50, kde=True, color='green')\n",
    "plt.title('Fare Distribution of Passengers')\n",
    "plt.xlabel('Fare')\n",
    "plt.ylabel('Frequency')\n",
    "plt.show()"
   ]
  },
  {
   "cell_type": "markdown",
   "id": "521b06fe",
   "metadata": {},
   "source": [
    "# Machine Learning Model"
   ]
  },
  {
   "cell_type": "code",
   "execution_count": null,
   "id": "a766231e",
   "metadata": {},
   "outputs": [],
   "source": [
    "x = df_train.drop(['Survived'], axis=1)\n",
    "y= df_train['Survived']\n",
    "\n",
    "\n",
    "\n",
    "\n",
    "x_train, x_test, y_train, y_test = train_test_split(x, y, test_size=0.1, random_state=42)\n",
    "\n",
    "model = XGBClassifier(\n",
    "    n_estimators=500,\n",
    "    learning_rate=0.02,\n",
    "    max_depth=3,\n",
    "    subsample=0.9,\n",
    "    colsample_bytree=0.9,\n",
    "    min_child_weight=1,\n",
    "    gamma=0.1,\n",
    "    random_state=42\n",
    ")\n",
    "\n",
    "\n",
    "#model = RandomForestClassifier(criterion='entropy',n_estimators=200, random_state=42, max_depth=15, min_samples_split=12, min_samples_leaf=4, max_samples=0.8)\n",
    "\"\"\"model = RandomForestClassifier(\n",
    "    criterion='entropy',\n",
    "    n_estimators=300,\n",
    "    max_depth=10,\n",
    "    min_samples_split=10,\n",
    "    min_samples_leaf=4,\n",
    "    class_weight='balanced',  \n",
    "    max_samples=0.8,\n",
    "    random_state=42\n",
    ")\"\"\"\n",
    "model.fit(x_train, y_train)\n",
    "pred_train = model.predict(x_train)\n",
    "pred_test = model.predict(x_test)\n",
    "\"\"\"print(\"training accuracy\")\n",
    "print(classification_report(y_train, pred_train))\n",
    "\n",
    "print(\"test accuracy\")\n",
    "print(classification_report(y_test, pred_test))\n",
    "print(\"Confusion Matrix:\")\n",
    "print(confusion_matrix(y_test, pred_test))\"\"\"\n",
    "print(f\"F1 Score for train {model.__class__.__name__}: {f1_score(y_train, pred_train)}\")\n",
    "print(f\"F1 Score for test {model.__class__.__name__}: {f1_score(y_test, pred_test)}\")\n",
    "\n",
    "scores = cross_val_score(model, x, y, cv=5, scoring='accuracy')\n",
    "print(\"CV Accuracy:\", scores.mean())"
   ]
  },
  {
   "cell_type": "code",
   "execution_count": null,
   "id": "dc14998b",
   "metadata": {},
   "outputs": [],
   "source": [
    "print(\"Confusion Matrix:\")\n",
    "\n",
    "\n",
    "cm = confusion_matrix(y_test, pred_test)\n",
    "print(cm)\n",
    "\n",
    "labels = ['Not Survived', 'Survived']\n",
    "\n",
    "plt.figure(figsize=(6,4))\n",
    "sns.heatmap(cm, annot=True, fmt='d', cmap='Blues', xticklabels=labels, yticklabels=labels)\n",
    "plt.xlabel('Predicted')\n",
    "plt.ylabel('Actual')\n",
    "plt.title('Confusion Matrix Heatmap')\n",
    "plt.show()"
   ]
  },
  {
   "cell_type": "markdown",
   "id": "5f029f4d",
   "metadata": {},
   "source": [
    "# Prediction for Test dataset"
   ]
  },
  {
   "cell_type": "code",
   "execution_count": null,
   "id": "fc5f35d4",
   "metadata": {},
   "outputs": [],
   "source": [
    "df_test = pd.read_csv(r\"D:\\PYTHON\\Titanic_Survival_Kaggle\\DATASET\\test.csv\")\n",
    "df_test1 = df_test.copy()\n",
    "\n",
    "print(f'Before Preprocessing stage: {df_test.isna().sum()}')\n",
    "\n",
    "df_test = preprocess_data(df_test)\n",
    "\n",
    "print(f'After Preprocessing stage: {df_test.isna().sum()}')\n",
    "df_test.head()\n",
    "if 'Survived' in df_test.columns:\n",
    "    df_test = df_test.drop('Survived', axis=1)\n",
    "\n",
    "\n"
   ]
  },
  {
   "cell_type": "code",
   "execution_count": null,
   "id": "9122c9a9",
   "metadata": {},
   "outputs": [],
   "source": [
    "  # Ensure 'Survived' column is not present\n",
    "df_test['Survived'] = model.predict(df_test)\n",
    "\n",
    "sub = pd.DataFrame(\n",
    "    {'PassengerId': df_test1['PassengerId'], 'Survived': df_test['Survived']}\n",
    ")\n",
    "print(sub)\n",
    "\n",
    "sub.to_csv(r\"D:\\PYTHON\\Titanic_Survival_Kaggle\\DATASET\\submission8.csv\", index=False)\n"
   ]
  }
 ],
 "metadata": {
  "kernelspec": {
   "display_name": "base",
   "language": "python",
   "name": "python3"
  },
  "language_info": {
   "codemirror_mode": {
    "name": "ipython",
    "version": 3
   },
   "file_extension": ".py",
   "mimetype": "text/x-python",
   "name": "python",
   "nbconvert_exporter": "python",
   "pygments_lexer": "ipython3",
   "version": "3.12.4"
  }
 },
 "nbformat": 4,
 "nbformat_minor": 5
}
